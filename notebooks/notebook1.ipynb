{
 "cells": [
  {
   "cell_type": "code",
   "execution_count": 9,
   "metadata": {},
   "outputs": [],
   "source": [
    "import wget\n",
    "import json\n",
    "import gzip\n",
    "import pandas as pd\n",
    "import pickle\n",
    "from sklearn.metrics.pairwise import cosine_similarity\n",
    "import numpy as np"
   ]
  },
  {
   "cell_type": "markdown",
   "metadata": {},
   "source": [
    "# Review Data"
   ]
  },
  {
   "cell_type": "code",
   "execution_count": 4,
   "metadata": {},
   "outputs": [],
   "source": [
    "# Download review data\n",
    "url1 = 'https://datarepo.eng.ucsd.edu/mcauley_group/gdrive/goodreads/goodreads_reviews_dedup.json.gz'\n",
    "file1 = wget.download(url1)"
   ]
  },
  {
   "cell_type": "code",
   "execution_count": 12,
   "metadata": {},
   "outputs": [
    {
     "data": {
      "text/plain": [
       "{'user_id': '8842281e1d1347389f2ab93d60773d4d',\n",
       " 'book_id': '24375664',\n",
       " 'review_id': '5cd416f3efc3f944fce4ce2db2290d5e',\n",
       " 'rating': 5,\n",
       " 'review_text': \"Mind blowingly cool. Best science fiction I've read in some time. I just loved all the descriptions of the society of the future - how they lived in trees, the notion of owning property or even getting married was gone. How every surface was a screen. \\n The undulations of how society responds to the Trisolaran threat seem surprising to me. Maybe its more the Chinese perspective, but I wouldn't have thought the ETO would exist in book 1, and I wouldn't have thought people would get so over-confident in our primitive fleet's chances given you have to think that with superior science they would have weapons - and defenses - that would just be as rifles to arrows once were. \\n But the moment when Luo Ji won as a wallfacer was just too cool. I may have actually done a fist pump. Though by the way, if the Dark Forest theory is right - and I see no reason why it wouldn't be - we as a society should probably stop broadcasting so much signal out into the universe.\",\n",
       " 'date_added': 'Fri Aug 25 13:55:02 -0700 2017',\n",
       " 'date_updated': 'Mon Oct 09 08:55:59 -0700 2017',\n",
       " 'read_at': 'Sat Oct 07 00:00:00 -0700 2017',\n",
       " 'started_at': 'Sat Aug 26 00:00:00 -0700 2017',\n",
       " 'n_votes': 16,\n",
       " 'n_comments': 0}"
      ]
     },
     "execution_count": 12,
     "metadata": {},
     "output_type": "execute_result"
    }
   ],
   "source": [
    "# Look at a sample\n",
    "with gzip.open(\"/home/ubuntu/goodreads_reviews_dedup.json.gz\") as f:\n",
    "    line = f.readline()\n",
    "    \n",
    "data = json.loads(line)\n",
    "data"
   ]
  },
  {
   "cell_type": "code",
   "execution_count": 14,
   "metadata": {},
   "outputs": [
    {
     "data": {
      "text/plain": [
       "{'book_id': '24375664',\n",
       " 'user_id': '8842281e1d1347389f2ab93d60773d4d',\n",
       " 'rating': 5}"
      ]
     },
     "execution_count": 14,
     "metadata": {},
     "output_type": "execute_result"
    }
   ],
   "source": [
    "# Function to extract important features from review data\n",
    "def parse_review_data(line):\n",
    "    data = json.loads(line)\n",
    "    return {\n",
    "        \"book_id\": data[\"book_id\"],\n",
    "        \"user_id\" : data['user_id'],\n",
    "        'rating' : data['rating']}\n",
    "\n",
    "parse_review_data(line)"
   ]
  },
  {
   "cell_type": "code",
   "execution_count": 15,
   "metadata": {},
   "outputs": [],
   "source": [
    "# Extract review data from entire dataset\n",
    "books_reviews = []\n",
    "\n",
    "with gzip.open(\"/home/ubuntu/goodreads_reviews_dedup.json.gz\") as f:\n",
    "    while True:\n",
    "        line = f.readline()\n",
    "        if not line:\n",
    "            break\n",
    "        fields = parse_review_data(line)\n",
    "        books_reviews.append(fields)"
   ]
  },
  {
   "cell_type": "code",
   "execution_count": 16,
   "metadata": {},
   "outputs": [
    {
     "name": "stdout",
     "output_type": "stream",
     "text": [
      "(15739967, 3)\n"
     ]
    },
    {
     "data": {
      "text/html": [
       "<div>\n",
       "<style scoped>\n",
       "    .dataframe tbody tr th:only-of-type {\n",
       "        vertical-align: middle;\n",
       "    }\n",
       "\n",
       "    .dataframe tbody tr th {\n",
       "        vertical-align: top;\n",
       "    }\n",
       "\n",
       "    .dataframe thead th {\n",
       "        text-align: right;\n",
       "    }\n",
       "</style>\n",
       "<table border=\"1\" class=\"dataframe\">\n",
       "  <thead>\n",
       "    <tr style=\"text-align: right;\">\n",
       "      <th></th>\n",
       "      <th>book_id</th>\n",
       "      <th>user_id</th>\n",
       "      <th>rating</th>\n",
       "    </tr>\n",
       "  </thead>\n",
       "  <tbody>\n",
       "    <tr>\n",
       "      <th>0</th>\n",
       "      <td>24375664</td>\n",
       "      <td>8842281e1d1347389f2ab93d60773d4d</td>\n",
       "      <td>5</td>\n",
       "    </tr>\n",
       "    <tr>\n",
       "      <th>1</th>\n",
       "      <td>18245960</td>\n",
       "      <td>8842281e1d1347389f2ab93d60773d4d</td>\n",
       "      <td>5</td>\n",
       "    </tr>\n",
       "    <tr>\n",
       "      <th>2</th>\n",
       "      <td>6392944</td>\n",
       "      <td>8842281e1d1347389f2ab93d60773d4d</td>\n",
       "      <td>3</td>\n",
       "    </tr>\n",
       "    <tr>\n",
       "      <th>3</th>\n",
       "      <td>22078596</td>\n",
       "      <td>8842281e1d1347389f2ab93d60773d4d</td>\n",
       "      <td>4</td>\n",
       "    </tr>\n",
       "    <tr>\n",
       "      <th>4</th>\n",
       "      <td>6644782</td>\n",
       "      <td>8842281e1d1347389f2ab93d60773d4d</td>\n",
       "      <td>4</td>\n",
       "    </tr>\n",
       "  </tbody>\n",
       "</table>\n",
       "</div>"
      ],
      "text/plain": [
       "    book_id                           user_id  rating\n",
       "0  24375664  8842281e1d1347389f2ab93d60773d4d       5\n",
       "1  18245960  8842281e1d1347389f2ab93d60773d4d       5\n",
       "2   6392944  8842281e1d1347389f2ab93d60773d4d       3\n",
       "3  22078596  8842281e1d1347389f2ab93d60773d4d       4\n",
       "4   6644782  8842281e1d1347389f2ab93d60773d4d       4"
      ]
     },
     "execution_count": 16,
     "metadata": {},
     "output_type": "execute_result"
    }
   ],
   "source": [
    "# Save as a dataframe\n",
    "reviews = pd.DataFrame.from_dict(books_reviews)\n",
    "\n",
    "print(reviews.shape)\n",
    "reviews.head()"
   ]
  },
  {
   "cell_type": "markdown",
   "metadata": {},
   "source": [
    "# Book Data"
   ]
  },
  {
   "cell_type": "code",
   "execution_count": 10,
   "metadata": {},
   "outputs": [],
   "source": [
    "# Download book data\n",
    "url2 = 'https://datarepo.eng.ucsd.edu/mcauley_group/gdrive/goodreads/goodreads_books.json.gz'\n",
    "file2 = wget.download(url2)"
   ]
  },
  {
   "cell_type": "code",
   "execution_count": 17,
   "metadata": {},
   "outputs": [
    {
     "data": {
      "text/plain": [
       "{'isbn': '0312853122',\n",
       " 'text_reviews_count': '1',\n",
       " 'series': [],\n",
       " 'country_code': 'US',\n",
       " 'language_code': '',\n",
       " 'popular_shelves': [{'count': '3', 'name': 'to-read'},\n",
       "  {'count': '1', 'name': 'p'},\n",
       "  {'count': '1', 'name': 'collection'},\n",
       "  {'count': '1', 'name': 'w-c-fields'},\n",
       "  {'count': '1', 'name': 'biography'}],\n",
       " 'asin': '',\n",
       " 'is_ebook': 'false',\n",
       " 'average_rating': '4.00',\n",
       " 'kindle_asin': '',\n",
       " 'similar_books': [],\n",
       " 'description': '',\n",
       " 'format': 'Paperback',\n",
       " 'link': 'https://www.goodreads.com/book/show/5333265-w-c-fields',\n",
       " 'authors': [{'author_id': '604031', 'role': ''}],\n",
       " 'publisher': \"St. Martin's Press\",\n",
       " 'num_pages': '256',\n",
       " 'publication_day': '1',\n",
       " 'isbn13': '9780312853129',\n",
       " 'publication_month': '9',\n",
       " 'edition_information': '',\n",
       " 'publication_year': '1984',\n",
       " 'url': 'https://www.goodreads.com/book/show/5333265-w-c-fields',\n",
       " 'image_url': 'https://images.gr-assets.com/books/1310220028m/5333265.jpg',\n",
       " 'book_id': '5333265',\n",
       " 'ratings_count': '3',\n",
       " 'work_id': '5400751',\n",
       " 'title': 'W.C. Fields: A Life on Film',\n",
       " 'title_without_series': 'W.C. Fields: A Life on Film'}"
      ]
     },
     "execution_count": 17,
     "metadata": {},
     "output_type": "execute_result"
    }
   ],
   "source": [
    "# Look at a sample\n",
    "with gzip.open(\"/home/ubuntu/goodreads_books.json.gz\") as f:\n",
    "    line = f.readline()\n",
    "    \n",
    "data = json.loads(line)\n",
    "data"
   ]
  },
  {
   "cell_type": "code",
   "execution_count": 18,
   "metadata": {},
   "outputs": [
    {
     "data": {
      "text/plain": [
       "{'book_id': '5333265',\n",
       " 'title': 'W.C. Fields: A Life on Film',\n",
       " 'language': '',\n",
       " 'description': '',\n",
       " 'reviews_count': '1',\n",
       " 'avg_rating': '4.00',\n",
       " 'ratings_count': '3',\n",
       " 'author_id': '604031',\n",
       " 'image_url': 'https://images.gr-assets.com/books/1310220028m/5333265.jpg'}"
      ]
     },
     "execution_count": 18,
     "metadata": {},
     "output_type": "execute_result"
    }
   ],
   "source": [
    "# Function to extract author id from books data\n",
    "def get_author(data):\n",
    "    for i in range(len(data['authors'])):\n",
    "        author = data['authors'][i]['author_id']\n",
    "        return author\n",
    "\n",
    "\n",
    "# Function to extract important book features\n",
    "def parse_book_data(line):\n",
    "    data = json.loads(line)\n",
    "    return {\n",
    "        \"book_id\": data[\"book_id\"],\n",
    "        'title': data['title_without_series'],\n",
    "        'language':data['language_code'],\n",
    "        'description': data['description'],\n",
    "        'reviews_count': data['text_reviews_count'],\n",
    "        'avg_rating' :data['average_rating'],\n",
    "        'ratings_count' : data['ratings_count'],\n",
    "        'author_id' : get_author(data),\n",
    "        'image_url' : data['image_url']\n",
    "    }\n",
    "\n",
    "parse_book_data(line)"
   ]
  },
  {
   "cell_type": "code",
   "execution_count": 19,
   "metadata": {},
   "outputs": [],
   "source": [
    "# Extract features from full book dataset\n",
    "books_data = []\n",
    "\n",
    "with gzip.open(\"/home/ubuntu/goodreads_books.json.gz\") as f:\n",
    "    while True:\n",
    "        line = f.readline()\n",
    "        if not line:\n",
    "            break\n",
    "        fields = parse_book_data(line)\n",
    "        books_data.append(fields)"
   ]
  },
  {
   "cell_type": "code",
   "execution_count": 20,
   "metadata": {},
   "outputs": [
    {
     "name": "stdout",
     "output_type": "stream",
     "text": [
      "(2360655, 9)\n"
     ]
    },
    {
     "data": {
      "text/html": [
       "<div>\n",
       "<style scoped>\n",
       "    .dataframe tbody tr th:only-of-type {\n",
       "        vertical-align: middle;\n",
       "    }\n",
       "\n",
       "    .dataframe tbody tr th {\n",
       "        vertical-align: top;\n",
       "    }\n",
       "\n",
       "    .dataframe thead th {\n",
       "        text-align: right;\n",
       "    }\n",
       "</style>\n",
       "<table border=\"1\" class=\"dataframe\">\n",
       "  <thead>\n",
       "    <tr style=\"text-align: right;\">\n",
       "      <th></th>\n",
       "      <th>book_id</th>\n",
       "      <th>title</th>\n",
       "      <th>language</th>\n",
       "      <th>description</th>\n",
       "      <th>reviews_count</th>\n",
       "      <th>avg_rating</th>\n",
       "      <th>ratings_count</th>\n",
       "      <th>author_id</th>\n",
       "      <th>image_url</th>\n",
       "    </tr>\n",
       "  </thead>\n",
       "  <tbody>\n",
       "    <tr>\n",
       "      <th>0</th>\n",
       "      <td>5333265</td>\n",
       "      <td>W.C. Fields: A Life on Film</td>\n",
       "      <td></td>\n",
       "      <td></td>\n",
       "      <td>1</td>\n",
       "      <td>4.00</td>\n",
       "      <td>3</td>\n",
       "      <td>604031</td>\n",
       "      <td>https://images.gr-assets.com/books/1310220028m...</td>\n",
       "    </tr>\n",
       "    <tr>\n",
       "      <th>1</th>\n",
       "      <td>1333909</td>\n",
       "      <td>Good Harbor</td>\n",
       "      <td></td>\n",
       "      <td>Anita Diamant's international bestseller \"The ...</td>\n",
       "      <td>6</td>\n",
       "      <td>3.23</td>\n",
       "      <td>10</td>\n",
       "      <td>626222</td>\n",
       "      <td>https://s.gr-assets.com/assets/nophoto/book/11...</td>\n",
       "    </tr>\n",
       "    <tr>\n",
       "      <th>2</th>\n",
       "      <td>7327624</td>\n",
       "      <td>The Unschooled Wizard (Sun Wolf and Starhawk, ...</td>\n",
       "      <td>eng</td>\n",
       "      <td>Omnibus book club edition containing the Ladie...</td>\n",
       "      <td>7</td>\n",
       "      <td>4.03</td>\n",
       "      <td>140</td>\n",
       "      <td>10333</td>\n",
       "      <td>https://images.gr-assets.com/books/1304100136m...</td>\n",
       "    </tr>\n",
       "    <tr>\n",
       "      <th>3</th>\n",
       "      <td>6066819</td>\n",
       "      <td>Best Friends Forever</td>\n",
       "      <td>eng</td>\n",
       "      <td>Addie Downs and Valerie Adler were eight when ...</td>\n",
       "      <td>3282</td>\n",
       "      <td>3.49</td>\n",
       "      <td>51184</td>\n",
       "      <td>9212</td>\n",
       "      <td>https://s.gr-assets.com/assets/nophoto/book/11...</td>\n",
       "    </tr>\n",
       "    <tr>\n",
       "      <th>4</th>\n",
       "      <td>287140</td>\n",
       "      <td>Runic Astrology: Starcraft and Timekeeping in ...</td>\n",
       "      <td></td>\n",
       "      <td></td>\n",
       "      <td>5</td>\n",
       "      <td>3.40</td>\n",
       "      <td>15</td>\n",
       "      <td>149918</td>\n",
       "      <td>https://images.gr-assets.com/books/1413219371m...</td>\n",
       "    </tr>\n",
       "  </tbody>\n",
       "</table>\n",
       "</div>"
      ],
      "text/plain": [
       "   book_id                                              title language  \\\n",
       "0  5333265                        W.C. Fields: A Life on Film            \n",
       "1  1333909                                        Good Harbor            \n",
       "2  7327624  The Unschooled Wizard (Sun Wolf and Starhawk, ...      eng   \n",
       "3  6066819                               Best Friends Forever      eng   \n",
       "4   287140  Runic Astrology: Starcraft and Timekeeping in ...            \n",
       "\n",
       "                                         description reviews_count avg_rating  \\\n",
       "0                                                                1       4.00   \n",
       "1  Anita Diamant's international bestseller \"The ...             6       3.23   \n",
       "2  Omnibus book club edition containing the Ladie...             7       4.03   \n",
       "3  Addie Downs and Valerie Adler were eight when ...          3282       3.49   \n",
       "4                                                                5       3.40   \n",
       "\n",
       "  ratings_count author_id                                          image_url  \n",
       "0             3    604031  https://images.gr-assets.com/books/1310220028m...  \n",
       "1            10    626222  https://s.gr-assets.com/assets/nophoto/book/11...  \n",
       "2           140     10333  https://images.gr-assets.com/books/1304100136m...  \n",
       "3         51184      9212  https://s.gr-assets.com/assets/nophoto/book/11...  \n",
       "4            15    149918  https://images.gr-assets.com/books/1413219371m...  "
      ]
     },
     "execution_count": 20,
     "metadata": {},
     "output_type": "execute_result"
    }
   ],
   "source": [
    "# Save as a dataframe\n",
    "books = pd.DataFrame.from_dict(books_data)\n",
    "print(books.shape)\n",
    "books.head()"
   ]
  },
  {
   "cell_type": "code",
   "execution_count": 21,
   "metadata": {},
   "outputs": [
    {
     "data": {
      "text/plain": [
       "array(['', 'eng', 'ger', 'spa', 'en-US', 'ita', 'per', 'en-GB', 'tur',\n",
       "       'ind', 'mon', 'fre', 'por', 'ara', 'en-CA', 'tha', 'lav', 'jpn',\n",
       "       'pol', 'swe', 'kor', 'fin', 'msa', 'bul', 'nl', 'gre', 'slo',\n",
       "       'nor', 'heb', 'hun', 'ben', 'scr', 'zho', 'fil', 'rus', 'lit',\n",
       "       'rum', 'cze', 'dan', 'slv', 'nno', 'pes', 'hye', 'nob', 'cat',\n",
       "       'en', 'vie', 'nep', 'mar', 'srp', 'urd', 'guj', 'est', 'sqi',\n",
       "       'ukr', 'afr', 'mul', 'grc', 'kat', 'mkd', 'hin', 'tam', 'mus',\n",
       "       '--', 'bos', 'enm', 'gla', 'isl', 'glg', 'mal', 'kur', 'wel',\n",
       "       'pt-BR', 'crh', 'tel', 'es-MX', 'kan', 'mya', 'fao', 'aze', 'ota',\n",
       "       'arw', 'pra', 'tgl', 'lat', 'dum', 'eus', 'sin', 'mlt', 'ada',\n",
       "       'apa', 'udm', 'peo', 'bel', 'iro', 'nld', 'ori', 'smn', 'amh',\n",
       "       'tut', 'frs', 'arg', 'ang', 'abk', 'epo', 'snd', 'pan', 'egy',\n",
       "       'dut', 'vls', 'jav', 'tlh', 'din', 'gle', 'alg', 'gsw', 'nah',\n",
       "       'her', 'aus', 'aka', 'chm', 'ace', 'oci', 'ast', 'kok', 'tib',\n",
       "       'frm', 'ira', 'arp', 'grn', 'nds', 'elx', 'swa', 'dyu', 'san',\n",
       "       'sco', 'che', 'ach', 'raj', 'nqo', 'dak', 'sun', 'cor', 'fiu',\n",
       "       'inh', 'run', 'asm', 'bug', 'gem', 'vai', 'und', 'gmh', 'qaa',\n",
       "       'uig', 'non', 'dua', 'krl', 'sla', 'ava', 'rom', 'phi', 'btk',\n",
       "       'ltz', 'mri', 'hat', 'awa', 'scn', 'lim', 'div', 'chb', 'bas',\n",
       "       'iba', 'en-IN', 'uzb', 'tup', 'anp', 'wak', 'roh', 'jrb', 'kaz',\n",
       "       'vec', 'fan', 'yid', 'sga', 'haw', 'chv', 'chi', 'afa', 'myv',\n",
       "       'nav', 'ine', 'roa', 'bam', 'kir', 'kam', 'nso', 'ilo',\n",
       "       'Select...', 'gez', 'ale', 'kau', 'myn', 'bik', 'jbo', 'hmn',\n",
       "       'fro', 'dgr', 'bat', 'mwl', 'sux', 'ave', 'iku', 'ton', 'chp',\n",
       "       'kal', 'sot', 'khm', 'ina', 'tgk', 'nub', 'chn', 'ady', 'cop',\n",
       "       'aar', 'zap', 'rup', 'lao'], dtype=object)"
      ]
     },
     "execution_count": 21,
     "metadata": {},
     "output_type": "execute_result"
    }
   ],
   "source": [
    "# We will only keep books that are labeled as english (or unknown)\n",
    "books['language'].unique()"
   ]
  },
  {
   "cell_type": "code",
   "execution_count": 22,
   "metadata": {},
   "outputs": [
    {
     "data": {
      "text/plain": [
       "(1918645, 9)"
      ]
     },
     "execution_count": 22,
     "metadata": {},
     "output_type": "execute_result"
    }
   ],
   "source": [
    "# Subset english books\n",
    "language_list = ['eng', 'en', 'en-US','en-GB','']\n",
    "\n",
    "books_eng = books[books['language'].isin(language_list)]\n",
    "books_eng.shape"
   ]
  },
  {
   "cell_type": "code",
   "execution_count": 23,
   "metadata": {},
   "outputs": [
    {
     "data": {
      "text/plain": [
       "book_id            0\n",
       "title              0\n",
       "language           0\n",
       "description        0\n",
       "reviews_count      0\n",
       "avg_rating         0\n",
       "ratings_count      0\n",
       "author_id        503\n",
       "image_url          0\n",
       "dtype: int64"
      ]
     },
     "execution_count": 23,
     "metadata": {},
     "output_type": "execute_result"
    }
   ],
   "source": [
    "# Check for null values\n",
    "books_eng.isna().sum()"
   ]
  },
  {
   "cell_type": "code",
   "execution_count": 36,
   "metadata": {},
   "outputs": [
    {
     "name": "stderr",
     "output_type": "stream",
     "text": [
      "/tmp/ipykernel_28863/2457803753.py:1: SettingWithCopyWarning: \n",
      "A value is trying to be set on a copy of a slice from a DataFrame\n",
      "\n",
      "See the caveats in the documentation: https://pandas.pydata.org/pandas-docs/stable/user_guide/indexing.html#returning-a-view-versus-a-copy\n",
      "  books_eng.dropna(inplace=True)\n"
     ]
    }
   ],
   "source": [
    "# The books that are missing the author id are also completely blank in the other columns, so we will just drop these\n",
    "books_eng.dropna(inplace=True)"
   ]
  },
  {
   "cell_type": "code",
   "execution_count": 37,
   "metadata": {},
   "outputs": [
    {
     "name": "stdout",
     "output_type": "stream",
     "text": [
      "<class 'pandas.core.frame.DataFrame'>\n",
      "Index: 1918142 entries, 0 to 2360654\n",
      "Data columns (total 9 columns):\n",
      " #   Column         Dtype \n",
      "---  ------         ----- \n",
      " 0   book_id        object\n",
      " 1   title          object\n",
      " 2   language       object\n",
      " 3   description    object\n",
      " 4   reviews_count  object\n",
      " 5   avg_rating     object\n",
      " 6   ratings_count  object\n",
      " 7   author_id      object\n",
      " 8   image_url      object\n",
      "dtypes: object(9)\n",
      "memory usage: 146.3+ MB\n"
     ]
    }
   ],
   "source": [
    "# Check dtypes\n",
    "books_eng.info()"
   ]
  },
  {
   "cell_type": "code",
   "execution_count": 39,
   "metadata": {},
   "outputs": [],
   "source": [
    "# Change some data types\n",
    "books_eng = books_eng.astype({'reviews_count':int,\n",
    "                              'avg_rating':float,\n",
    "                              'ratings_count':int,\n",
    "                              'author_id':int})"
   ]
  },
  {
   "cell_type": "code",
   "execution_count": 41,
   "metadata": {},
   "outputs": [
    {
     "data": {
      "text/plain": [
       "False    1492788\n",
       "True      425354\n",
       "Name: count, dtype: int64"
      ]
     },
     "execution_count": 41,
     "metadata": {},
     "output_type": "execute_result"
    }
   ],
   "source": [
    "# Check for duplicates\n",
    "books_eng.duplicated(subset=['title', 'author_id']).value_counts()"
   ]
  },
  {
   "cell_type": "code",
   "execution_count": 42,
   "metadata": {},
   "outputs": [
    {
     "data": {
      "text/plain": [
       "(1492788, 9)"
      ]
     },
     "execution_count": 42,
     "metadata": {},
     "output_type": "execute_result"
    }
   ],
   "source": [
    "# Remove duplicates, we will keep the book with the highest rating count\n",
    "books_no_dup = books_eng.sort_values(by='ratings_count', ascending=False)\\\n",
    "                    .drop_duplicates(subset=['title', 'author_id'], keep='first')\\\n",
    "                    .reset_index(drop=True)\n",
    "\n",
    "books_no_dup.shape"
   ]
  },
  {
   "cell_type": "markdown",
   "metadata": {},
   "source": [
    "# Author Data"
   ]
  },
  {
   "cell_type": "code",
   "execution_count": 13,
   "metadata": {},
   "outputs": [],
   "source": [
    "# Download author data\n",
    "url3 = 'https://datarepo.eng.ucsd.edu/mcauley_group/gdrive/goodreads/goodreads_book_authors.json.gz'\n",
    "file3 = wget.download(url3)"
   ]
  },
  {
   "cell_type": "code",
   "execution_count": 43,
   "metadata": {},
   "outputs": [
    {
     "data": {
      "text/plain": [
       "{'average_rating': '3.98',\n",
       " 'author_id': '604031',\n",
       " 'text_reviews_count': '7',\n",
       " 'name': 'Ronald J. Fields',\n",
       " 'ratings_count': '49'}"
      ]
     },
     "execution_count": 43,
     "metadata": {},
     "output_type": "execute_result"
    }
   ],
   "source": [
    "# look at a sample\n",
    "with gzip.open(\"/home/ubuntu/goodreads_book_authors.json.gz\") as f:\n",
    "    line = f.readline()\n",
    "    \n",
    "data = json.loads(line)\n",
    "data"
   ]
  },
  {
   "cell_type": "code",
   "execution_count": 46,
   "metadata": {},
   "outputs": [
    {
     "data": {
      "text/plain": [
       "{'name': 'Ronald J. Fields', 'author_id': '604031'}"
      ]
     },
     "execution_count": 46,
     "metadata": {},
     "output_type": "execute_result"
    }
   ],
   "source": [
    "# Function to extract author info\n",
    "def parse_author_data(line):\n",
    "    data = json.loads(line)\n",
    "    return {\n",
    "        'name' : data['name'],\n",
    "        'author_id' : data['author_id']\n",
    "    }\n",
    "\n",
    "parse_author_data(line)"
   ]
  },
  {
   "cell_type": "code",
   "execution_count": 47,
   "metadata": {},
   "outputs": [],
   "source": [
    "# Extract author data\n",
    "author_data = []\n",
    "\n",
    "with gzip.open(\"/home/ubuntu/goodreads_book_authors.json.gz\") as f:\n",
    "    while True:\n",
    "        line = f.readline()\n",
    "        if not line:\n",
    "            break\n",
    "        fields = parse_author_data(line)\n",
    "        author_data.append(fields)"
   ]
  },
  {
   "cell_type": "code",
   "execution_count": 48,
   "metadata": {},
   "outputs": [
    {
     "name": "stdout",
     "output_type": "stream",
     "text": [
      "(829529, 2)\n"
     ]
    },
    {
     "data": {
      "text/html": [
       "<div>\n",
       "<style scoped>\n",
       "    .dataframe tbody tr th:only-of-type {\n",
       "        vertical-align: middle;\n",
       "    }\n",
       "\n",
       "    .dataframe tbody tr th {\n",
       "        vertical-align: top;\n",
       "    }\n",
       "\n",
       "    .dataframe thead th {\n",
       "        text-align: right;\n",
       "    }\n",
       "</style>\n",
       "<table border=\"1\" class=\"dataframe\">\n",
       "  <thead>\n",
       "    <tr style=\"text-align: right;\">\n",
       "      <th></th>\n",
       "      <th>name</th>\n",
       "      <th>author_id</th>\n",
       "    </tr>\n",
       "  </thead>\n",
       "  <tbody>\n",
       "    <tr>\n",
       "      <th>0</th>\n",
       "      <td>Ronald J. Fields</td>\n",
       "      <td>604031</td>\n",
       "    </tr>\n",
       "    <tr>\n",
       "      <th>1</th>\n",
       "      <td>Anita Diamant</td>\n",
       "      <td>626222</td>\n",
       "    </tr>\n",
       "    <tr>\n",
       "      <th>2</th>\n",
       "      <td>Barbara Hambly</td>\n",
       "      <td>10333</td>\n",
       "    </tr>\n",
       "    <tr>\n",
       "      <th>3</th>\n",
       "      <td>Jennifer Weiner</td>\n",
       "      <td>9212</td>\n",
       "    </tr>\n",
       "    <tr>\n",
       "      <th>4</th>\n",
       "      <td>Nigel Pennick</td>\n",
       "      <td>149918</td>\n",
       "    </tr>\n",
       "  </tbody>\n",
       "</table>\n",
       "</div>"
      ],
      "text/plain": [
       "               name author_id\n",
       "0  Ronald J. Fields    604031\n",
       "1     Anita Diamant    626222\n",
       "2    Barbara Hambly     10333\n",
       "3   Jennifer Weiner      9212\n",
       "4     Nigel Pennick    149918"
      ]
     },
     "execution_count": 48,
     "metadata": {},
     "output_type": "execute_result"
    }
   ],
   "source": [
    "# Save as a dataframe\n",
    "authors = pd.DataFrame.from_dict(author_data)\n",
    "print(authors.shape)\n",
    "authors.head()"
   ]
  },
  {
   "cell_type": "code",
   "execution_count": 50,
   "metadata": {},
   "outputs": [
    {
     "name": "stdout",
     "output_type": "stream",
     "text": [
      "<class 'pandas.core.frame.DataFrame'>\n",
      "RangeIndex: 829529 entries, 0 to 829528\n",
      "Data columns (total 2 columns):\n",
      " #   Column     Non-Null Count   Dtype \n",
      "---  ------     --------------   ----- \n",
      " 0   name       829529 non-null  object\n",
      " 1   author_id  829529 non-null  object\n",
      "dtypes: object(2)\n",
      "memory usage: 12.7+ MB\n"
     ]
    }
   ],
   "source": [
    "authors.info()"
   ]
  },
  {
   "cell_type": "markdown",
   "metadata": {},
   "source": [
    "# Merging the Data"
   ]
  },
  {
   "cell_type": "code",
   "execution_count": 52,
   "metadata": {},
   "outputs": [],
   "source": [
    "# Change data type\n",
    "authors = authors.astype({'author_id':int})"
   ]
  },
  {
   "cell_type": "code",
   "execution_count": 55,
   "metadata": {},
   "outputs": [
    {
     "name": "stdout",
     "output_type": "stream",
     "text": [
      "(1492788, 10)\n"
     ]
    },
    {
     "data": {
      "text/html": [
       "<div>\n",
       "<style scoped>\n",
       "    .dataframe tbody tr th:only-of-type {\n",
       "        vertical-align: middle;\n",
       "    }\n",
       "\n",
       "    .dataframe tbody tr th {\n",
       "        vertical-align: top;\n",
       "    }\n",
       "\n",
       "    .dataframe thead th {\n",
       "        text-align: right;\n",
       "    }\n",
       "</style>\n",
       "<table border=\"1\" class=\"dataframe\">\n",
       "  <thead>\n",
       "    <tr style=\"text-align: right;\">\n",
       "      <th></th>\n",
       "      <th>book_id</th>\n",
       "      <th>title</th>\n",
       "      <th>language</th>\n",
       "      <th>description</th>\n",
       "      <th>reviews_count</th>\n",
       "      <th>avg_rating</th>\n",
       "      <th>ratings_count</th>\n",
       "      <th>author_id</th>\n",
       "      <th>image_url</th>\n",
       "      <th>name</th>\n",
       "    </tr>\n",
       "  </thead>\n",
       "  <tbody>\n",
       "    <tr>\n",
       "      <th>0</th>\n",
       "      <td>2767052</td>\n",
       "      <td>The Hunger Games (The Hunger Games, #1)</td>\n",
       "      <td>eng</td>\n",
       "      <td>Winning will make you famous.\\nLosing means ce...</td>\n",
       "      <td>142645</td>\n",
       "      <td>4.34</td>\n",
       "      <td>4899965</td>\n",
       "      <td>153394</td>\n",
       "      <td>https://images.gr-assets.com/books/1447303603m...</td>\n",
       "      <td>Suzanne Collins</td>\n",
       "    </tr>\n",
       "    <tr>\n",
       "      <th>1</th>\n",
       "      <td>3</td>\n",
       "      <td>Harry Potter and the Sorcerer's Stone (Harry P...</td>\n",
       "      <td>eng</td>\n",
       "      <td>Harry Potter's life is miserable. His parents ...</td>\n",
       "      <td>59856</td>\n",
       "      <td>4.45</td>\n",
       "      <td>4765497</td>\n",
       "      <td>1077326</td>\n",
       "      <td>https://images.gr-assets.com/books/1474154022m...</td>\n",
       "      <td>J.K. Rowling</td>\n",
       "    </tr>\n",
       "    <tr>\n",
       "      <th>2</th>\n",
       "      <td>41865</td>\n",
       "      <td>Twilight (Twilight, #1)</td>\n",
       "      <td>en-US</td>\n",
       "      <td>About three things I was absolutely positive.\\...</td>\n",
       "      <td>90766</td>\n",
       "      <td>3.57</td>\n",
       "      <td>3941381</td>\n",
       "      <td>941441</td>\n",
       "      <td>https://images.gr-assets.com/books/1361039443m...</td>\n",
       "      <td>Stephenie Meyer</td>\n",
       "    </tr>\n",
       "    <tr>\n",
       "      <th>3</th>\n",
       "      <td>2657</td>\n",
       "      <td>To Kill a Mockingbird</td>\n",
       "      <td>eng</td>\n",
       "      <td>The unforgettable novel of a childhood in a sl...</td>\n",
       "      <td>59827</td>\n",
       "      <td>4.26</td>\n",
       "      <td>3255518</td>\n",
       "      <td>1825</td>\n",
       "      <td>https://images.gr-assets.com/books/1361975680m...</td>\n",
       "      <td>Harper Lee</td>\n",
       "    </tr>\n",
       "    <tr>\n",
       "      <th>4</th>\n",
       "      <td>4671</td>\n",
       "      <td>The Great Gatsby</td>\n",
       "      <td>eng</td>\n",
       "      <td>THE GREAT GATSBY, F. Scott Fitzgerald's third ...</td>\n",
       "      <td>43881</td>\n",
       "      <td>3.89</td>\n",
       "      <td>2758812</td>\n",
       "      <td>3190</td>\n",
       "      <td>https://images.gr-assets.com/books/1490528560m...</td>\n",
       "      <td>F. Scott Fitzgerald</td>\n",
       "    </tr>\n",
       "  </tbody>\n",
       "</table>\n",
       "</div>"
      ],
      "text/plain": [
       "   book_id                                              title language  \\\n",
       "0  2767052            The Hunger Games (The Hunger Games, #1)      eng   \n",
       "1        3  Harry Potter and the Sorcerer's Stone (Harry P...      eng   \n",
       "2    41865                            Twilight (Twilight, #1)    en-US   \n",
       "3     2657                              To Kill a Mockingbird      eng   \n",
       "4     4671                                   The Great Gatsby      eng   \n",
       "\n",
       "                                         description  reviews_count  \\\n",
       "0  Winning will make you famous.\\nLosing means ce...         142645   \n",
       "1  Harry Potter's life is miserable. His parents ...          59856   \n",
       "2  About three things I was absolutely positive.\\...          90766   \n",
       "3  The unforgettable novel of a childhood in a sl...          59827   \n",
       "4  THE GREAT GATSBY, F. Scott Fitzgerald's third ...          43881   \n",
       "\n",
       "   avg_rating  ratings_count  author_id  \\\n",
       "0        4.34        4899965     153394   \n",
       "1        4.45        4765497    1077326   \n",
       "2        3.57        3941381     941441   \n",
       "3        4.26        3255518       1825   \n",
       "4        3.89        2758812       3190   \n",
       "\n",
       "                                           image_url                 name  \n",
       "0  https://images.gr-assets.com/books/1447303603m...      Suzanne Collins  \n",
       "1  https://images.gr-assets.com/books/1474154022m...         J.K. Rowling  \n",
       "2  https://images.gr-assets.com/books/1361039443m...      Stephenie Meyer  \n",
       "3  https://images.gr-assets.com/books/1361975680m...           Harper Lee  \n",
       "4  https://images.gr-assets.com/books/1490528560m...  F. Scott Fitzgerald  "
      ]
     },
     "execution_count": 55,
     "metadata": {},
     "output_type": "execute_result"
    }
   ],
   "source": [
    "# Merge with book data so that we have the actual author name, and not just author id\n",
    "books_with_author = books_no_dup.merge(authors, on='author_id', how='left')\n",
    "print(books_with_author.shape)\n",
    "books_with_author.head()"
   ]
  },
  {
   "cell_type": "code",
   "execution_count": 57,
   "metadata": {},
   "outputs": [
    {
     "name": "stdout",
     "output_type": "stream",
     "text": [
      "(12681324, 12)\n"
     ]
    },
    {
     "data": {
      "text/html": [
       "<div>\n",
       "<style scoped>\n",
       "    .dataframe tbody tr th:only-of-type {\n",
       "        vertical-align: middle;\n",
       "    }\n",
       "\n",
       "    .dataframe tbody tr th {\n",
       "        vertical-align: top;\n",
       "    }\n",
       "\n",
       "    .dataframe thead th {\n",
       "        text-align: right;\n",
       "    }\n",
       "</style>\n",
       "<table border=\"1\" class=\"dataframe\">\n",
       "  <thead>\n",
       "    <tr style=\"text-align: right;\">\n",
       "      <th></th>\n",
       "      <th>book_id</th>\n",
       "      <th>title</th>\n",
       "      <th>language</th>\n",
       "      <th>description</th>\n",
       "      <th>reviews_count</th>\n",
       "      <th>avg_rating</th>\n",
       "      <th>ratings_count</th>\n",
       "      <th>author_id</th>\n",
       "      <th>image_url</th>\n",
       "      <th>name</th>\n",
       "      <th>user_id</th>\n",
       "      <th>rating</th>\n",
       "    </tr>\n",
       "  </thead>\n",
       "  <tbody>\n",
       "    <tr>\n",
       "      <th>0</th>\n",
       "      <td>2767052</td>\n",
       "      <td>The Hunger Games (The Hunger Games, #1)</td>\n",
       "      <td>eng</td>\n",
       "      <td>Winning will make you famous.\\nLosing means ce...</td>\n",
       "      <td>142645</td>\n",
       "      <td>4.34</td>\n",
       "      <td>4899965</td>\n",
       "      <td>153394</td>\n",
       "      <td>https://images.gr-assets.com/books/1447303603m...</td>\n",
       "      <td>Suzanne Collins</td>\n",
       "      <td>8842281e1d1347389f2ab93d60773d4d</td>\n",
       "      <td>5</td>\n",
       "    </tr>\n",
       "    <tr>\n",
       "      <th>1</th>\n",
       "      <td>2767052</td>\n",
       "      <td>The Hunger Games (The Hunger Games, #1)</td>\n",
       "      <td>eng</td>\n",
       "      <td>Winning will make you famous.\\nLosing means ce...</td>\n",
       "      <td>142645</td>\n",
       "      <td>4.34</td>\n",
       "      <td>4899965</td>\n",
       "      <td>153394</td>\n",
       "      <td>https://images.gr-assets.com/books/1447303603m...</td>\n",
       "      <td>Suzanne Collins</td>\n",
       "      <td>704eb93a316aff687a93d5215882eb21</td>\n",
       "      <td>5</td>\n",
       "    </tr>\n",
       "    <tr>\n",
       "      <th>2</th>\n",
       "      <td>2767052</td>\n",
       "      <td>The Hunger Games (The Hunger Games, #1)</td>\n",
       "      <td>eng</td>\n",
       "      <td>Winning will make you famous.\\nLosing means ce...</td>\n",
       "      <td>142645</td>\n",
       "      <td>4.34</td>\n",
       "      <td>4899965</td>\n",
       "      <td>153394</td>\n",
       "      <td>https://images.gr-assets.com/books/1447303603m...</td>\n",
       "      <td>Suzanne Collins</td>\n",
       "      <td>4b3636a043e5c99fa27ac897ccfa1151</td>\n",
       "      <td>5</td>\n",
       "    </tr>\n",
       "    <tr>\n",
       "      <th>3</th>\n",
       "      <td>2767052</td>\n",
       "      <td>The Hunger Games (The Hunger Games, #1)</td>\n",
       "      <td>eng</td>\n",
       "      <td>Winning will make you famous.\\nLosing means ce...</td>\n",
       "      <td>142645</td>\n",
       "      <td>4.34</td>\n",
       "      <td>4899965</td>\n",
       "      <td>153394</td>\n",
       "      <td>https://images.gr-assets.com/books/1447303603m...</td>\n",
       "      <td>Suzanne Collins</td>\n",
       "      <td>012aa353140af13109d00ca36cdc0637</td>\n",
       "      <td>5</td>\n",
       "    </tr>\n",
       "    <tr>\n",
       "      <th>4</th>\n",
       "      <td>2767052</td>\n",
       "      <td>The Hunger Games (The Hunger Games, #1)</td>\n",
       "      <td>eng</td>\n",
       "      <td>Winning will make you famous.\\nLosing means ce...</td>\n",
       "      <td>142645</td>\n",
       "      <td>4.34</td>\n",
       "      <td>4899965</td>\n",
       "      <td>153394</td>\n",
       "      <td>https://images.gr-assets.com/books/1447303603m...</td>\n",
       "      <td>Suzanne Collins</td>\n",
       "      <td>2f6af21d14c83a5df6cdcef5e6af0b3e</td>\n",
       "      <td>4</td>\n",
       "    </tr>\n",
       "  </tbody>\n",
       "</table>\n",
       "</div>"
      ],
      "text/plain": [
       "   book_id                                    title language  \\\n",
       "0  2767052  The Hunger Games (The Hunger Games, #1)      eng   \n",
       "1  2767052  The Hunger Games (The Hunger Games, #1)      eng   \n",
       "2  2767052  The Hunger Games (The Hunger Games, #1)      eng   \n",
       "3  2767052  The Hunger Games (The Hunger Games, #1)      eng   \n",
       "4  2767052  The Hunger Games (The Hunger Games, #1)      eng   \n",
       "\n",
       "                                         description  reviews_count  \\\n",
       "0  Winning will make you famous.\\nLosing means ce...         142645   \n",
       "1  Winning will make you famous.\\nLosing means ce...         142645   \n",
       "2  Winning will make you famous.\\nLosing means ce...         142645   \n",
       "3  Winning will make you famous.\\nLosing means ce...         142645   \n",
       "4  Winning will make you famous.\\nLosing means ce...         142645   \n",
       "\n",
       "   avg_rating  ratings_count  author_id  \\\n",
       "0        4.34        4899965     153394   \n",
       "1        4.34        4899965     153394   \n",
       "2        4.34        4899965     153394   \n",
       "3        4.34        4899965     153394   \n",
       "4        4.34        4899965     153394   \n",
       "\n",
       "                                           image_url             name  \\\n",
       "0  https://images.gr-assets.com/books/1447303603m...  Suzanne Collins   \n",
       "1  https://images.gr-assets.com/books/1447303603m...  Suzanne Collins   \n",
       "2  https://images.gr-assets.com/books/1447303603m...  Suzanne Collins   \n",
       "3  https://images.gr-assets.com/books/1447303603m...  Suzanne Collins   \n",
       "4  https://images.gr-assets.com/books/1447303603m...  Suzanne Collins   \n",
       "\n",
       "                            user_id  rating  \n",
       "0  8842281e1d1347389f2ab93d60773d4d       5  \n",
       "1  704eb93a316aff687a93d5215882eb21       5  \n",
       "2  4b3636a043e5c99fa27ac897ccfa1151       5  \n",
       "3  012aa353140af13109d00ca36cdc0637       5  \n",
       "4  2f6af21d14c83a5df6cdcef5e6af0b3e       4  "
      ]
     },
     "execution_count": 57,
     "metadata": {},
     "output_type": "execute_result"
    }
   ],
   "source": [
    "# Merge books and users\n",
    "full_data = books_with_author.merge(reviews, on='book_id', how='inner')\n",
    "print(full_data.shape)\n",
    "full_data.head()"
   ]
  },
  {
   "cell_type": "code",
   "execution_count": 58,
   "metadata": {},
   "outputs": [
    {
     "name": "stdout",
     "output_type": "stream",
     "text": [
      "<class 'pandas.core.frame.DataFrame'>\n",
      "RangeIndex: 12681324 entries, 0 to 12681323\n",
      "Data columns (total 12 columns):\n",
      " #   Column         Dtype  \n",
      "---  ------         -----  \n",
      " 0   book_id        object \n",
      " 1   title          object \n",
      " 2   language       object \n",
      " 3   description    object \n",
      " 4   reviews_count  int64  \n",
      " 5   avg_rating     float64\n",
      " 6   ratings_count  int64  \n",
      " 7   author_id      int64  \n",
      " 8   image_url      object \n",
      " 9   name           object \n",
      " 10  user_id        object \n",
      " 11  rating         int64  \n",
      "dtypes: float64(1), int64(4), object(7)\n",
      "memory usage: 1.1+ GB\n"
     ]
    }
   ],
   "source": [
    "full_data.info()"
   ]
  },
  {
   "cell_type": "code",
   "execution_count": 60,
   "metadata": {},
   "outputs": [],
   "source": [
    "# Save to csv file\n",
    "full_data.to_csv('../ubuntu/book_data.csv.gzip', compression='gzip', index=False)"
   ]
  },
  {
   "cell_type": "code",
   "execution_count": null,
   "metadata": {},
   "outputs": [],
   "source": []
  },
  {
   "cell_type": "markdown",
   "metadata": {},
   "source": [
    "# Top 50 books"
   ]
  },
  {
   "cell_type": "code",
   "execution_count": null,
   "metadata": {},
   "outputs": [],
   "source": [
    "top50 = books_with_author.sort_values(by='ratings_count', ascending=False).head(50)"
   ]
  },
  {
   "cell_type": "code",
   "execution_count": null,
   "metadata": {},
   "outputs": [],
   "source": [
    "pickle.dump(top50, open('top50.pkl', 'wb'))"
   ]
  }
 ],
 "metadata": {
  "kernelspec": {
   "display_name": "Python 3",
   "language": "python",
   "name": "python3"
  },
  "language_info": {
   "codemirror_mode": {
    "name": "ipython",
    "version": 3
   },
   "file_extension": ".py",
   "mimetype": "text/x-python",
   "name": "python",
   "nbconvert_exporter": "python",
   "pygments_lexer": "ipython3",
   "version": "3.8.10"
  },
  "orig_nbformat": 4
 },
 "nbformat": 4,
 "nbformat_minor": 2
}
